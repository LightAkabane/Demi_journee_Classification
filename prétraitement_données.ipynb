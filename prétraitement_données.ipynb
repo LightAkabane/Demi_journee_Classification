{
  "nbformat": 4,
  "nbformat_minor": 0,
  "metadata": {
    "colab": {
      "provenance": []
    },
    "kernelspec": {
      "name": "python3",
      "display_name": "Python 3"
    },
    "language_info": {
      "name": "python"
    }
  },
  "cells": [
    {
      "cell_type": "code",
      "execution_count": null,
      "metadata": {
        "id": "3OodReW8fLYo"
      },
      "outputs": [],
      "source": [
        "import pandas as pd\n",
        "\n",
        "# Charger le fichier CSV\n",
        "file_path = 'farms_train.csv'  # Chemin vers le fichier CSV\n",
        "data = pd.read_csv(file_path, sep=\";\", decimal=\",\")  # Chargement des données\n",
        "\n",
        "# Afficher un aperçu des données avant nettoyage\n",
        "print(\"Avant nettoyage :\")\n",
        "print(data.head())"
      ]
    },
    {
      "cell_type": "code",
      "source": [
        "# Remplacer les virgules par des points pour les valeurs numériques\n",
        "data.replace({',': '.'}, regex=True, inplace=True)\n",
        "\n",
        "# Supprimer les lignes contenant des valeurs manquantes\n",
        "data.dropna(inplace=True)\n",
        "\n",
        "# Afficher un aperçu des données après nettoyage\n",
        "print(\"\\nAprès nettoyage :\")\n",
        "print(data.head())\n",
        "\n",
        "print(\"Nombre de lignes avant nettoyage:\", len(data))"
      ],
      "metadata": {
        "id": "VBh9-Pp-fPjl"
      },
      "execution_count": null,
      "outputs": []
    }
  ]
}